{
 "cells": [
  {
   "cell_type": "markdown",
   "id": "1ec53785",
   "metadata": {},
   "source": [
    "### Q1. What is the Probability density function?\n",
    "Ans. A probability density function (PDF) is a function used in probability theory and statistics to represent the probability distribution of a continuous random variable"
   ]
  },
  {
   "cell_type": "markdown",
   "id": "76d206d4",
   "metadata": {},
   "source": [
    "### Q2. What are the types of Probability distribution?\n",
    "Uniform Distribution: All outcomes are equally likely. Think of rolling a fair six-sided die.\n",
    "\n",
    "Normal Distribution (Gaussian Distribution): Bell-shaped curve, with most values clustering around the mean. Many natural phenomena follow this distribution.\n",
    "\n",
    "Binomial Distribution: Describes the number of successes in a fixed number of independent Bernoulli trials (experiments with two possible outcomes).\n",
    "\n",
    "Poisson Distribution: Models the number of events that will occur within a fixed interval of time or space.\n",
    "\n",
    "Exponential Distribution: Describes the time until a specific event occurs in a process with a constant rate.\n"
   ]
  },
  {
   "cell_type": "markdown",
   "id": "86000dff",
   "metadata": {},
   "source": [
    "Q3. Write a Python function to calculate the probability density function of a normal distribution with given mean and standard deviation at a given point.\n",
    "Ans.  import math\n",
    "\n",
    "def normal_pdf(x, mean, std_dev):\n",
    "    \"\"\"\n",
    "    Calculate the probability density function of a normal distribution at a given point.\n",
    "\n",
    "    Parameters:\n",
    "    - x: The point at which to calculate the PDF.\n",
    "    - mean: The mean of the normal distribution.\n",
    "    - std_dev: The standard deviation of the normal distribution.\n",
    "\n",
    "    Returns:\n",
    "    The PDF value at the given point.\n",
    "    \"\"\"\n",
    "    coefficient = 1 / (std_dev * math.sqrt(2 * math.pi))\n",
    "    exponent = -((x - mean) ** 2) / (2 * std_dev ** 2)\n",
    "    pdf_value = coefficient * math.exp(exponent)\n",
    "    return pdf_value\n",
    "\n",
    "# Example usage:\n",
    "mean_value = 0\n",
    "std_dev_value = 1\n",
    "point = 1.5\n",
    "\n",
    "pdf_at_point = normal_pdf(point, mean_value, std_dev_value)\n",
    "print(f\"The PDF at x = {point} is {pdf_at_point}\")\n"
   ]
  },
  {
   "cell_type": "markdown",
   "id": "0f71a2f1",
   "metadata": {},
   "source": [
    "Q4.What are the properties of Binomial distribution? Give two examples of events where binomial distribution can be applied.\n",
    "Fixed Number of Trials (n): The distribution models a fixed number of independent trials, denoted as 'n.'\n",
    "\n",
    "Two Possible Outcomes: Each trial results in one of two outcomes, often referred to as success (S) and failure (F).\n",
    "\n",
    "Constant Probability of Success (p): The probability of success (P(S)) remains constant across all trials.\n",
    "\n",
    "Independent Trials: The outcomes of each trial are independent of each other.\n",
    "\n",
    "Discrete Random Variable: The number of successes (X) in the fixed number of trials is a discrete random variable.\n",
    "\n",
    "Example - coin tossing,\n",
    "          Medical Testing"
   ]
  },
  {
   "cell_type": "code",
   "execution_count": null,
   "id": "6c1c76e8",
   "metadata": {},
   "outputs": [],
   "source": [
    "### Q5. Generate a random sample of size 1000 from a binomial distribution with probability of success 0.4 and plot a histogram of the results using matplotlib.\n",
    "\n",
    "import numpy as np\n",
    "import matplotlib.pyplot as plt\n",
    "\n",
    "# Generate a random sample of size 1000 from a binomial distribution\n",
    "sample_size = 1000\n",
    "probability_of_success = 0.4\n",
    "random_sample = np.random.binomial(1, probability_of_success, sample_size)\n",
    "\n",
    "# Plot a histogram of the results\n",
    "plt.hist(random_sample, bins=[-0.5, 0.5, 1.5], edgecolor='black')\n",
    "plt.xlabel('Outcome')\n",
    "plt.ylabel('Frequency')\n",
    "plt.title('Binomial Distribution Sample')\n",
    "plt.xticks([0, 1], ['Failure', 'Success'])\n",
    "plt.show()\n"
   ]
  },
  {
   "cell_type": "markdown",
   "id": "d17e16ef",
   "metadata": {},
   "source": [
    "Q6. Write a Python function to calculate the cumulative distribution function of a Poisson distribution \n",
    "with given mean at a given point.\n",
    "\n",
    "Ans. import math\n",
    "\n",
    " def poisson_cdf(k, mean):\n",
    "    \"\"\"\n",
    "    Calculate the cumulative distribution function of a Poisson distribution at a given point.\n",
    "\n",
    "# Example usage:\n",
    "mean_value = 2.5\n",
    "point = 3\n",
    "\n",
    "cdf_at_point = poisson_cdf(point, mean_value)\n",
    "print(f\"The CDF at k = {point} is {cdf_at_point}\")\n"
   ]
  },
  {
   "cell_type": "markdown",
   "id": "56782135",
   "metadata": {},
   "source": [
    "### Q7. How Binomial distribution different from Poisson distribution?\n",
    "\n",
    "The key differences:\n",
    "\n",
    "Number of Trials:\n",
    "\n",
    "Binomial: Fixed number of trials \n",
    "Poisson: Variable number of trials, but with a known average rate \n",
    "\n",
    "Nature of Trials:\n",
    "\n",
    "Binomial: Two possible outcomes per trial.\n",
    "Poisson: Models the number of events in a fixed interval.\n",
    "\n",
    "Probability of Success:\n",
    "\n",
    "Binomial: Constant probability of success \n",
    "Poisson: Variable probability, but with a constant average rate \n",
    "\n",
    "Use Cases:\n",
    "\n",
    "Binomial: Suitable for scenarios with a fixed number of trials.\n",
    "Poisson: Used for events in fixed intervals, especially when the average rate is known."
   ]
  },
  {
   "cell_type": "code",
   "execution_count": null,
   "id": "fb203747",
   "metadata": {},
   "outputs": [],
   "source": [
    "Q8. Generate a random sample of size 1000 from a Poisson distribution with mean 5 and calculate the sample mean and variance.\n",
    "\n",
    "import numpy as np\n",
    "\n",
    "# Set the parameters\n",
    "mean_value = 5\n",
    "sample_size = 1000\n",
    "\n",
    "# Generate a random sample from a Poisson distribution\n",
    "random_sample = np.random.poisson(mean_value, sample_size)\n",
    "\n",
    "# Calculate the sample mean and variance\n",
    "sample_mean = np.mean(random_sample)\n",
    "sample_variance = np.var(random_sample, ddof=1)  # ddof=1 for sample variance\n",
    "\n",
    "# Print the results\n",
    "print(f\"Sample Mean: {sample_mean}\")\n",
    "print(f\"Sample Variance: {sample_variance}\")\n"
   ]
  },
  {
   "cell_type": "markdown",
   "id": "c10ba214",
   "metadata": {},
   "source": [
    "### Q9. How mean and variance are related in Binomial distribution and Poisson distribution?\n",
    " Ans. for both distributions, the variance is directly related to the mean. In the Poisson distribution, the mean is equal to the variance, while in the binomial distribution, the variance is a function of both the number of trials and the probability of success"
   ]
  },
  {
   "cell_type": "markdown",
   "id": "d5fd820d",
   "metadata": {},
   "source": [
    "#### Q10. In normal distribution with respect to mean position, where does the least frequent data appear?\n",
    " Ans.   In a normal distribution, the data is symmetrically distributed around the mean. The mean is the central point of the distribution, and the data is spread symmetrically on both sides. Therefore, the least frequent data appears in the tails of the distribution, farthest away from the mean.\n",
    "\n",
    "In a normal distribution:\n",
    "\n",
    "The majority of the data (about 68%) falls within one standard deviation of the mean.\n",
    "About 95% falls within two standard deviations.\n",
    "About 99.7% falls within three standard deviations.\n",
    "The tails of the distribution, beyond three standard deviations from the mean, contain the least frequent data points. These extreme values are less likely to occur in a normal distribution."
   ]
  },
  {
   "cell_type": "code",
   "execution_count": null,
   "id": "31e666b0",
   "metadata": {},
   "outputs": [],
   "source": []
  }
 ],
 "metadata": {
  "kernelspec": {
   "display_name": "Python 3 (ipykernel)",
   "language": "python",
   "name": "python3"
  },
  "language_info": {
   "codemirror_mode": {
    "name": "ipython",
    "version": 3
   },
   "file_extension": ".py",
   "mimetype": "text/x-python",
   "name": "python",
   "nbconvert_exporter": "python",
   "pygments_lexer": "ipython3",
   "version": "3.10.10"
  }
 },
 "nbformat": 4,
 "nbformat_minor": 5
}
